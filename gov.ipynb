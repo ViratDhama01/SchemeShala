{
 "cells": [
  {
   "cell_type": "code",
   "execution_count": 27,
   "id": "61c63778-0553-4c3a-9b5b-d3694c963873",
   "metadata": {},
   "outputs": [],
   "source": [
    "import pandas as pd\n",
    "\n",
    "df = pd.read_csv(\"gov.csv\")\n",
    "df = df.fillna(\"\")\n",
    "\n",
    "# Combine text features for ML\n",
    "df[\"combined_text\"] = (\n",
    "    df[\"scheme_name\"] + \" \" +\n",
    "    df[\"benefits\"] + \" \" +\n",
    "    df[\"eligibility\"] + \" \" +\n",
    "    df[\"tags\"]\n",
    ")"
   ]
  },
  {
   "cell_type": "code",
   "execution_count": 32,
   "id": "9739da5e-04c2-4b6f-935f-4552c2414a7e",
   "metadata": {},
   "outputs": [],
   "source": [
    "def filter_schemes(profile, df):\n",
    "    filtered = df.copy()\n",
    "    \n",
    "    if profile.get(\"category\"):\n",
    "        filtered = filtered[filtered[\"schemeCategory\"].str.contains(profile[\"category\"], case=False, na=False)]\n",
    "    if profile.get(\"location\"):\n",
    "        filtered = filtered[filtered[\"level\"].str.contains(profile[\"location\"], case=False, na=False)]\n",
    "    if profile.get(\"income\"):\n",
    "        # Example rule: filter income-based schemes\n",
    "        filtered = filtered[filtered[\"eligibility\"].str.contains(\"income\", case=False, na=False)]\n",
    "    \n",
    "    return filtered"
   ]
  },
  {
   "cell_type": "code",
   "execution_count": 29,
   "id": "7e115f48-815c-42e1-9f7f-b4a2ab8bc8a1",
   "metadata": {},
   "outputs": [],
   "source": [
    "from sklearn.feature_extraction.text import TfidfVectorizer\n",
    "from sklearn.metrics.pairwise import cosine_similarity\n",
    "\n",
    "vectorizer = TfidfVectorizer(stop_words=\"english\", max_features=5000)\n",
    "X = vectorizer.fit_transform(df[\"combined_text\"])\n",
    "\n",
    "def recommend(profile_text, top_n=5):\n",
    "    user_vec = vectorizer.transform([profile_text])\n",
    "    sim = cosine_similarity(user_vec, X).flatten()\n",
    "    idx = sim.argsort()[-top_n:][::-1]\n",
    "    return df.iloc[idx][[\"scheme_name\", \"benefits\", \"eligibility\"]]"
   ]
  },
  {
   "cell_type": "code",
   "execution_count": 30,
   "id": "c2304104-bf5b-47a0-8928-7f8c2212ed7e",
   "metadata": {},
   "outputs": [
    {
     "name": "stdout",
     "output_type": "stream",
     "text": [
      "\u001b[1;33mJupyter detected\u001b[0m\u001b[1;33m...\u001b[0m\n",
      "\u001b[1;32m2\u001b[0m\u001b[1;32m channel Terms of Service accepted\u001b[0m\n",
      "Channels:\n",
      " - conda-forge\n",
      " - defaults\n",
      "Platform: osx-arm64\n",
      "doneecting package metadata (repodata.json): - \n",
      "doneing environment: - \n",
      "\n",
      "# All requested packages already installed.\n",
      "\n",
      "\n",
      "Note: you may need to restart the kernel to use updated packages.\n"
     ]
    }
   ],
   "source": [
    "conda install -c conda-forge fastapi uvicorn"
   ]
  },
  {
   "cell_type": "code",
   "execution_count": 33,
   "id": "041b3bd1-1217-4af1-a100-7f99373fc39e",
   "metadata": {},
   "outputs": [],
   "source": [
    "# app.py\n",
    "from fastapi import FastAPI\n",
    "from pydantic import BaseModel\n",
    "import pandas as pd\n",
    "\n",
    "# Load your schemes data\n",
    "df = pd.read_csv(\"gov.csv\")\n",
    "\n",
    "# Define user profile schema\n",
    "class Profile(BaseModel):\n",
    "    age: int | None = None\n",
    "    location: str | None = None\n",
    "    income: float | None = None\n",
    "    category: str | None = None\n",
    "    occupation: str | None = None\n",
    "\n",
    "app = FastAPI()\n",
    "\n",
    "@app.get(\"/\")\n",
    "def home():\n",
    "    return {\"message\": \"Welcome to SchemeSarthi API 🚀\"}\n",
    "\n",
    "@app.post(\"/recommend\")\n",
    "def recommend(profile: Profile):\n",
    "    # Basic filtering logic\n",
    "    filtered = df.copy()\n",
    "    if profile.category:\n",
    "        filtered = filtered[filtered[\"schemeCategory\"].str.contains(profile.category, case=False, na=False)]\n",
    "    if profile.location:\n",
    "        filtered = filtered[filtered[\"level\"].str.contains(profile.location, case=False, na=False)]\n",
    "    \n",
    "    return filtered.head(5).to_dict(orient=\"records\")"
   ]
  },
  {
   "cell_type": "code",
   "execution_count": null,
   "id": "e3770a3a-49fc-4f9a-836a-43653a4fc5e4",
   "metadata": {},
   "outputs": [],
   "source": []
  },
  {
   "cell_type": "code",
   "execution_count": null,
   "id": "9e290fd2-00a8-425b-945c-5caee8f89ce2",
   "metadata": {},
   "outputs": [],
   "source": []
  },
  {
   "cell_type": "code",
   "execution_count": null,
   "id": "f2f217db-c120-45c8-816e-08a9815be512",
   "metadata": {},
   "outputs": [],
   "source": []
  },
  {
   "cell_type": "code",
   "execution_count": null,
   "id": "d3b53152-ac96-4063-9eab-ad965b738634",
   "metadata": {},
   "outputs": [],
   "source": []
  }
 ],
 "metadata": {
  "kernelspec": {
   "display_name": "Python [conda env:base] *",
   "language": "python",
   "name": "conda-base-py"
  },
  "language_info": {
   "codemirror_mode": {
    "name": "ipython",
    "version": 3
   },
   "file_extension": ".py",
   "mimetype": "text/x-python",
   "name": "python",
   "nbconvert_exporter": "python",
   "pygments_lexer": "ipython3",
   "version": "3.13.5"
  }
 },
 "nbformat": 4,
 "nbformat_minor": 5
}
