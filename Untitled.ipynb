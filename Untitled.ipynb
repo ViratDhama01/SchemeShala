{
 "cells": [
  {
   "cell_type": "code",
   "execution_count": 8,
   "id": "f4471820-cc9c-436e-8b5f-f12f9bb3863e",
   "metadata": {},
   "outputs": [
    {
     "name": "stdout",
     "output_type": "stream",
     "text": [
      "Columns in your CSV:\n",
      "['scheme_name', 'slug', 'details', 'benefits', 'eligibility', 'application', 'documents', 'level', 'schemeCategory', 'Unnamed: 9', 'tags']\n"
     ]
    }
   ],
   "source": [
    "import pandas as pd\n",
    "\n",
    "df = pd.read_csv(\n",
    "    \"gov.csv\",\n",
    "    on_bad_lines=\"skip\",\n",
    "    quoting=3,\n",
    "    engine=\"python\",\n",
    "    encoding=\"utf-8\"\n",
    ")\n",
    "\n",
    "print(\"Columns in your CSV:\")\n",
    "print(df.columns.tolist())"
   ]
  },
  {
   "cell_type": "code",
   "execution_count": 9,
   "id": "eb51224a-f385-4236-a410-4ea3d12a54e6",
   "metadata": {},
   "outputs": [],
   "source": [
    "df = df.dropna(subset=[\"schemeCategory\", \"eligibility\"], how=\"any\")"
   ]
  },
  {
   "cell_type": "code",
   "execution_count": 10,
   "id": "ea815295-4ddb-4f54-a8e9-1e6ee06c3e2f",
   "metadata": {},
   "outputs": [
    {
     "name": "stdout",
     "output_type": "stream",
     "text": [
      "Normalized columns: ['scheme_name', 'slug', 'details', 'benefits', 'eligibility', 'application', 'documents', 'level', 'schemecategory', 'unnamed:_9', 'tags']\n",
      "✅ Cleaned data saved to cleaned_data.csv\n"
     ]
    }
   ],
   "source": [
    "import pandas as pd\n",
    "\n",
    "# Load CSV with flexible parsing\n",
    "df = pd.read_csv(\n",
    "    \"updated_data.csv\",\n",
    "    on_bad_lines=\"skip\",   # skip problematic lines\n",
    "    quoting=3,             # QUOTE_NONE\n",
    "    engine=\"python\",\n",
    "    encoding=\"utf-8\"\n",
    ")\n",
    "\n",
    "# --- Normalize column names ---\n",
    "df.columns = (\n",
    "    df.columns.str.strip()           # remove extra spaces\n",
    "             .str.lower()            # lowercase\n",
    "             .str.replace(\" \", \"_\")  # replace spaces with _\n",
    ")\n",
    "\n",
    "print(\"Normalized columns:\", df.columns.tolist())\n",
    "\n",
    "# --- Drop rows missing important fields (if they exist) ---\n",
    "important_cols = [c for c in [\"scheme\", \"eligibility\"] if c in df.columns]\n",
    "if important_cols:\n",
    "    df = df.dropna(subset=important_cols, how=\"any\")\n",
    "\n",
    "# --- Drop duplicates ---\n",
    "df = df.drop_duplicates()\n",
    "\n",
    "# --- Save cleaned version ---\n",
    "df.to_csv(\"cleaned_data.csv\", index=False)\n",
    "\n",
    "print(\"✅ Cleaned data saved to cleaned_data.csv\")"
   ]
  },
  {
   "cell_type": "code",
   "execution_count": null,
   "id": "cea981a4-90f8-4329-997b-27de37a33542",
   "metadata": {},
   "outputs": [],
   "source": []
  },
  {
   "cell_type": "code",
   "execution_count": null,
   "id": "de5d7a00-783f-4d6a-bd27-1fb53af79fda",
   "metadata": {},
   "outputs": [],
   "source": []
  }
 ],
 "metadata": {
  "kernelspec": {
   "display_name": "Python [conda env:base] *",
   "language": "python",
   "name": "conda-base-py"
  },
  "language_info": {
   "codemirror_mode": {
    "name": "ipython",
    "version": 3
   },
   "file_extension": ".py",
   "mimetype": "text/x-python",
   "name": "python",
   "nbconvert_exporter": "python",
   "pygments_lexer": "ipython3",
   "version": "3.13.5"
  }
 },
 "nbformat": 4,
 "nbformat_minor": 5
}
